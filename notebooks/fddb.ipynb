{
 "cells": [
  {
   "cell_type": "code",
   "execution_count": null,
   "metadata": {},
   "outputs": [],
   "source": [
    "from glob import glob\n",
    "\n",
    "from PIL import Image\n",
    "\n",
    "\n",
    "file_paths = []\n",
    "ellipse_data = []\n",
    "\n",
    "label_files = glob(\"../data/FDDB/labels/*.txt\")\n",
    "\n",
    "for filename in label_files:\n",
    "    with open(filename) as f:\n",
    "        if \"ellipseList\" not in filename:\n",
    "            file_paths += [p.strip(\"\\n\") for p in f.readlines()]\n",
    "        else:\n",
    "            ellipse_data += [p.strip(\"\\n\") for p in f.readlines()]\n",
    "\n",
    "ellipse_data"
   ]
  },
  {
   "cell_type": "code",
   "execution_count": null,
   "metadata": {},
   "outputs": [],
   "source": [
    "import pandas as pd"
   ]
  },
  {
   "cell_type": "code",
   "execution_count": null,
   "metadata": {},
   "outputs": [],
   "source": [
    "pdf_file_paths = pd.DataFrame({\"path\": file_paths})\n",
    "pdf_file_paths[\"path_idx\"] = pdf_file_paths.index\n",
    "\n",
    "pdf_ellipse_data = pd.DataFrame({\"data\": ellipse_data})\n",
    "pdf_ellipse_data[\"data_idx\"] = pdf_ellipse_data.index"
   ]
  },
  {
   "cell_type": "code",
   "execution_count": null,
   "metadata": {},
   "outputs": [],
   "source": [
    "pdf_file_data_mapping = pdf_file_paths.merge(\n",
    "    pdf_ellipse_data, left_on=\"path\", right_on=\"data\", how=\"left\"\n",
    ")"
   ]
  },
  {
   "cell_type": "code",
   "execution_count": null,
   "metadata": {},
   "outputs": [],
   "source": [
    "ellipse_dict = {str(k): [] for k in pdf_file_paths[\"path\"]}\n",
    "ellipse_dict"
   ]
  },
  {
   "cell_type": "code",
   "execution_count": null,
   "metadata": {},
   "outputs": [],
   "source": [
    "for i, r in pdf_file_data_mapping.iterrows():\n",
    "    data_idx = r[\"data_idx\"]\n",
    "    num_ellipses = int(ellipse_data[data_idx + 1])\n",
    "    file_path = r[\"path\"]\n",
    "    for j in range(data_idx + 2, data_idx + num_ellipses + 2):\n",
    "        ellipse_dict[file_path].append(\n",
    "            [float(v) for v in ellipse_data[j].split(\" \")[:-1] if len(v) > 0]\n",
    "        )"
   ]
  },
  {
   "cell_type": "code",
   "execution_count": null,
   "metadata": {},
   "outputs": [],
   "source": [
    "import torch\n",
    "\n",
    "ellipse_dict[\"2003/01/14/big/img_1115\"]"
   ]
  },
  {
   "cell_type": "code",
   "execution_count": null,
   "metadata": {},
   "outputs": [],
   "source": [
    "import numpy as np\n",
    "import matplotlib.pyplot as plt\n",
    "\n",
    "img_name = \"2002/07/19/big/img_392\"\n",
    "\n",
    "img = Image.open(f\"../data/FDDB/images/{img_name}.jpg\")\n",
    "img_array = np.array(img)"
   ]
  },
  {
   "cell_type": "code",
   "execution_count": null,
   "metadata": {},
   "outputs": [],
   "source": [
    "img"
   ]
  },
  {
   "cell_type": "code",
   "execution_count": null,
   "metadata": {},
   "outputs": [],
   "source": [
    "from matplotlib.collections import EllipseCollection\n",
    "\n",
    "fig, ax = plt.subplots(figsize=(10, 10))\n",
    "for ed in ellipse_dict[img_name]:\n",
    "    major_axis_radius, minor_axis_radius, angle, center_x, center_y = ed\n",
    "\n",
    "    ec = EllipseCollection(\n",
    "        major_axis_radius * 2,\n",
    "        minor_axis_radius * 2,\n",
    "        np.degrees(angle),\n",
    "        units=\"xy\",\n",
    "        offsets=(center_x, center_y),\n",
    "        transOffset=ax.transData,\n",
    "        facecolors=\"None\",\n",
    "    )\n",
    "    ax.add_collection(ec)\n",
    "ax.imshow(img, cmap=\"gray\")"
   ]
  },
  {
   "cell_type": "code",
   "execution_count": null,
   "metadata": {},
   "outputs": [],
   "source": [
    "from ellipse_rcnn.utils.viz import DetectionPlotter"
   ]
  },
  {
   "cell_type": "code",
   "execution_count": null,
   "metadata": {},
   "outputs": [],
   "source": [
    "major_axis_radius, minor_axis_radius, angle, center_x, center_y = ed\n",
    "DetectionPlotter.from_ellipses(ed)"
   ]
  },
  {
   "cell_type": "code",
   "execution_count": null,
   "metadata": {},
   "outputs": [],
   "source": [
    "torch.tensor(ed)"
   ]
  },
  {
   "cell_type": "code",
   "execution_count": null,
   "metadata": {},
   "outputs": [],
   "source": [
    "from ellipse_rcnn.utils.data.fddb import FDDB\n",
    "\n",
    "ds = FDDB(\"../data/FDDB/\")"
   ]
  },
  {
   "cell_type": "code",
   "execution_count": null,
   "metadata": {},
   "outputs": [],
   "source": [
    "image, target = ds[500]\n",
    "target"
   ]
  },
  {
   "cell_type": "code",
   "execution_count": null,
   "metadata": {},
   "outputs": [],
   "source": [
    "from ellipse_rcnn import EllipseRCNN\n",
    "\n",
    "model = EllipseRCNN()"
   ]
  },
  {
   "cell_type": "code",
   "execution_count": null,
   "metadata": {},
   "outputs": [],
   "source": [
    "from ellipse_rcnn.utils.data.base import collate_fn\n",
    "\n",
    "images, targets = collate_fn([(image, target)])\n",
    "\n",
    "model.forward(images, targets)"
   ]
  },
  {
   "cell_type": "code",
   "execution_count": null,
   "metadata": {
    "jupyter": {
     "is_executing": true
    }
   },
   "outputs": [],
   "source": [
    "from pytorch_lightning import Trainer\n",
    "from torch.utils.data import DataLoader\n",
    "from ellipse_rcnn.core.model import EllipseRCNNLightning\n",
    "\n",
    "\n",
    "dataset_loader = DataLoader(ds, batch_size=24, shuffle=True, collate_fn=collate_fn)\n",
    "\n",
    "pl_model = EllipseRCNNLightning(model)\n",
    "trainer = Trainer(max_epochs=10, accelerator=\"auto\", log_every_n_steps=1)\n",
    "trainer.fit(pl_model, dataset_loader)"
   ]
  },
  {
   "cell_type": "code",
   "execution_count": null,
   "metadata": {},
   "outputs": [],
   "source": []
  }
 ],
 "metadata": {
  "kernelspec": {
   "display_name": "Python 3",
   "language": "python",
   "name": "python3"
  },
  "language_info": {
   "codemirror_mode": {
    "name": "ipython",
    "version": 2
   },
   "file_extension": ".py",
   "mimetype": "text/x-python",
   "name": "python",
   "nbconvert_exporter": "python",
   "pygments_lexer": "ipython2",
   "version": "2.7.6"
  }
 },
 "nbformat": 4,
 "nbformat_minor": 0
}
