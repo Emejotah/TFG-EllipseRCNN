{
 "cells": [
  {
   "cell_type": "code",
   "execution_count": null,
   "metadata": {
    "pycharm": {
     "name": "#%%\n"
    }
   },
   "outputs": [],
   "source": [
    "from matplotlib.collections import EllipseCollection\n",
    "\n",
    "from ellipse_rcnn.utils.conics import (\n",
    "    ellipse_to_conic_matrix,\n",
    "    ellipse_center,\n",
    ")\n",
    "\n",
    "from ellipse_rcnn.utils.data.fddb import FDDB"
   ]
  },
  {
   "cell_type": "code",
   "execution_count": null,
   "metadata": {
    "pycharm": {
     "name": "#%%\n"
    }
   },
   "outputs": [],
   "source": [
    "from ellipse_rcnn import EllipseRCNN\n",
    "from ellipse_rcnn.core.model import EllipseRCNNLightning\n",
    "import torch"
   ]
  },
  {
   "cell_type": "code",
   "execution_count": null,
   "metadata": {},
   "outputs": [],
   "source": [
    "model = EllipseRCNN()"
   ]
  },
  {
   "cell_type": "code",
   "execution_count": null,
   "metadata": {},
   "outputs": [],
   "source": [
    "pl_model = EllipseRCNNLightning.load_from_checkpoint(\n",
    "    \"../checkpoints/e=08-loss=1.78192.ckpt\", model=model\n",
    ")"
   ]
  },
  {
   "cell_type": "code",
   "execution_count": null,
   "metadata": {},
   "outputs": [],
   "source": [
    "model.eval().cpu()"
   ]
  },
  {
   "cell_type": "code",
   "execution_count": null,
   "metadata": {},
   "outputs": [],
   "source": [
    "ds = FDDB(\"../data/FDDB\")\n",
    "ds_raw = FDDB(\"../data/FDDB\", transform=lambda x: x)"
   ]
  },
  {
   "cell_type": "code",
   "execution_count": null,
   "metadata": {},
   "outputs": [],
   "source": [
    "from matplotlib.axes import Axes\n",
    "from matplotlib import pyplot as plt\n",
    "from ellipse_rcnn.utils.conics import ellipse_axes, ellipse_angle\n",
    "import numpy as np\n",
    "\n",
    "\n",
    "def plot_conics(\n",
    "    A_craters: torch.Tensor,\n",
    "    resolution: tuple[int, int],\n",
    "    figsize: tuple[float, float] = (15, 15),\n",
    "    plot_centers: bool = False,\n",
    "    ax: Axes | None = None,\n",
    "    rim_color=\"r\",\n",
    "    alpha=1.0,\n",
    "):\n",
    "    a_proj, b_proj = ellipse_axes(A_craters)\n",
    "    psi_proj = ellipse_angle(A_craters)\n",
    "    x_pix_proj, y_pix_proj = ellipse_center(A_craters)\n",
    "\n",
    "    a_proj, b_proj, psi_proj, x_pix_proj, y_pix_proj = map(\n",
    "        lambda t: t.detach().cpu().numpy(),\n",
    "        (a_proj, b_proj, psi_proj, x_pix_proj, y_pix_proj),\n",
    "    )\n",
    "\n",
    "    if ax is None:\n",
    "        fig, ax = plt.subplots(figsize=figsize, subplot_kw={\"aspect\": \"equal\"})\n",
    "\n",
    "    # Set axes according to camera pixel space convention\n",
    "    ax.set_xlim(0, resolution[0])\n",
    "    ax.set_ylim(resolution[1], 0)\n",
    "\n",
    "    ec = EllipseCollection(\n",
    "        a_proj,\n",
    "        b_proj,\n",
    "        np.degrees(psi_proj),\n",
    "        units=\"xy\",\n",
    "        offsets=np.column_stack((x_pix_proj, y_pix_proj)),\n",
    "        transOffset=ax.transData,\n",
    "        facecolors=\"None\",\n",
    "        edgecolors=rim_color,\n",
    "        alpha=alpha,\n",
    "    )\n",
    "    ax.add_collection(ec)\n",
    "\n",
    "    if plot_centers:\n",
    "        crater_centers = ellipse_center(A_craters)\n",
    "        for k, c_i in enumerate(crater_centers):\n",
    "            x, y = c_i[0], c_i[1]\n",
    "            if 0 <= x <= resolution[0] and 0 <= y <= resolution[1]:\n",
    "                ax.text(x, y, str(k))\n",
    "\n",
    "\n",
    "i = 90\n",
    "\n",
    "image, target_dict = ds[i]\n",
    "image_raw, _ = ds_raw[i]\n",
    "\n",
    "resolution = tuple(image.shape[-2:])\n",
    "print(resolution)\n",
    "# Save or display the image\n",
    "pred = model(image.unsqueeze(0))\n",
    "if len(pred[0][\"boxes\"]) > 0:\n",
    "    fig, ax = plt.subplots(1, figsize=(15, 25))\n",
    "    ax.set_aspect(\"equal\")\n",
    "    ax.grid(True)\n",
    "    ax.imshow(np.array(image_raw))\n",
    "    a, b, x, y, theta = map(\n",
    "        lambda t: t.transpose(-1, 0).detach(), pred[0][\"ellipse_matrices\"]\n",
    "    )\n",
    "\n",
    "    A_pred = ellipse_to_conic_matrix(a=a, b=b, x=x, y=y, theta=theta)\n",
    "    plot_conics(A_pred, ax=ax, plot_centers=True, resolution=(450, 399))\n",
    "    plt.show()"
   ]
  },
  {
   "cell_type": "code",
   "execution_count": null,
   "metadata": {},
   "outputs": [],
   "source": []
  }
 ],
 "metadata": {
  "kernelspec": {
   "display_name": "Python 3 (ipykernel)",
   "language": "python",
   "name": "python3"
  },
  "language_info": {
   "codemirror_mode": {
    "name": "ipython",
    "version": 2
   },
   "file_extension": ".py",
   "mimetype": "text/x-python",
   "name": "python",
   "nbconvert_exporter": "python",
   "pygments_lexer": "ipython2",
   "version": "2.7.6"
  }
 },
 "nbformat": 4,
 "nbformat_minor": 0
}
