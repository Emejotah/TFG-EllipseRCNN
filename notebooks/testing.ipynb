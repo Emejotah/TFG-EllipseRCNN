{
 "cells": [
  {
   "cell_type": "code",
   "execution_count": null,
   "metadata": {
    "pycharm": {
     "name": "#%%\n"
    }
   },
   "outputs": [],
   "source": [
    "from ellipse_rcnn.utils.conics import (\n",
    "    ellipse_to_conic_matrix,\n",
    "    bbox_ellipse,\n",
    ")\n",
    "import torch"
   ]
  },
  {
   "cell_type": "code",
   "execution_count": null,
   "metadata": {
    "pycharm": {
     "name": "#%%\n"
    }
   },
   "outputs": [],
   "source": [
    "semimajor_axis, semiminor_axis = torch.tensor([5.0, 6.0]), torch.tensor([3.0, 4.0])\n",
    "cx, cy = torch.tensor([1.0, 2.0]), torch.tensor([3.0, 4.0])\n",
    "theta = torch.tensor([0.0, 0.0])\n",
    "\n",
    "ellipse_matrices = ellipse_to_conic_matrix(\n",
    "    semimajor_axis, semiminor_axis, cx, cy, theta\n",
    ")\n",
    "\n",
    "expected_bbox = torch.tensor([[-4, 0.0, 6.0, 6.0], [-4.0, 0.0, 8.0, 8.0]])\n",
    "calculated_bbox = bbox_ellipse(ellipse_matrices)\n",
    "\n",
    "# assert torch.allclose(calculated_bbox, expected_bbox), \"Bounding box calculation #1 failed\"\n",
    "expected_bbox, calculated_bbox"
   ]
  },
  {
   "cell_type": "code",
   "execution_count": null,
   "metadata": {
    "pycharm": {
     "name": "#%%\n"
    }
   },
   "outputs": [],
   "source": [
    "import numpy as np\n",
    "from matplotlib import pyplot as plt\n",
    "from matplotlib.patches import Rectangle, Ellipse\n",
    "\n",
    "\n",
    "def plot_bboxes_ellipses(_bboxes: np.ndarray, _theta: np.ndarray):\n",
    "    \"\"\"\n",
    "    Plot the bounding boxes and ellipses on the image.\n",
    "\n",
    "    Parameters\n",
    "    ----------\n",
    "    _bboxes\n",
    "    _ellipses\n",
    "    Returns\n",
    "    -------\n",
    "\n",
    "    \"\"\"\n",
    "    fig, ax = plt.subplots(1, figsize=(15, 25))\n",
    "    ax.set_ylim(-10, 10)\n",
    "    ax.set_xlim(-10, 10)\n",
    "    ax.set_aspect(\"equal\")\n",
    "\n",
    "    for (x_min, y_min, x_max, y_max), t in zip(_bboxes, _theta):\n",
    "        cx, cy, w, h = (\n",
    "            x_min + (x_max - x_min) / 2,\n",
    "            y_min + (y_max - y_min) / 2,\n",
    "            x_max - x_min,\n",
    "            y_max - y_min,\n",
    "        )\n",
    "        rect = Rectangle((x_min, y_min), w, h, fill=False, color=\"r\")\n",
    "        ax.add_patch(rect)\n",
    "\n",
    "        ellipse = Ellipse((cx, cy), w, h, angle=t, alpha=0.3)\n",
    "\n",
    "        ax.add_patch(ellipse)"
   ]
  },
  {
   "cell_type": "code",
   "execution_count": null,
   "metadata": {
    "pycharm": {
     "name": "#%%\n"
    }
   },
   "outputs": [],
   "source": [
    "plot_bboxes_ellipses(calculated_bbox, theta)"
   ]
  },
  {
   "cell_type": "code",
   "execution_count": null,
   "metadata": {
    "pycharm": {
     "name": "#%%\n"
    }
   },
   "outputs": [],
   "source": [
    "from ellipse_rcnn.utils.viz import DetectionPlotter"
   ]
  },
  {
   "cell_type": "code",
   "execution_count": null,
   "metadata": {
    "pycharm": {
     "name": "#%%\n"
    }
   },
   "outputs": [],
   "source": [
    "plotter = DetectionPlotter.from_ellipses(ellipse_matrices)\n",
    "\n",
    "print(calculated_bbox)\n",
    "\n",
    "fig, ax = plt.subplots(1, figsize=(15, 25))\n",
    "ax.set_aspect(\"equal\")\n",
    "ax.grid(True)\n",
    "ax.set_xlim(-10, 10)\n",
    "ax.set_ylim(-10, 10)\n",
    "\n",
    "plotter.plot(ax)"
   ]
  },
  {
   "cell_type": "code",
   "execution_count": null,
   "metadata": {
    "pycharm": {
     "name": "#%%\n"
    }
   },
   "outputs": [],
   "source": []
  }
 ],
 "metadata": {
  "kernelspec": {
   "display_name": "Python 3 (ipykernel)",
   "language": "python",
   "name": "python3"
  },
  "language_info": {
   "codemirror_mode": {
    "name": "ipython",
    "version": 2
   },
   "file_extension": ".py",
   "mimetype": "text/x-python",
   "name": "python",
   "nbconvert_exporter": "python",
   "pygments_lexer": "ipython2",
   "version": "2.7.6"
  }
 },
 "nbformat": 4,
 "nbformat_minor": 0
}
