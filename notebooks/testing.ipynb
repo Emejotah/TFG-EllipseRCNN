{
 "cells": [
  {
   "cell_type": "code",
   "execution_count": null,
   "metadata": {
    "pycharm": {
     "name": "#%%\n"
    }
   },
   "outputs": [],
   "source": [
    "from ellipse_rcnn.utils.conics import (\n",
    "    ellipse_to_conic_matrix,\n",
    "    bbox_ellipse,\n",
    ")\n",
    "import torch\n",
    "\n",
    "from ellipse_rcnn.utils.data.fddb import FDDB"
   ]
  },
  {
   "cell_type": "code",
   "execution_count": null,
   "metadata": {
    "pycharm": {
     "name": "#%%\n"
    }
   },
   "outputs": [],
   "source": [
    "semimajor_axis, semiminor_axis = torch.tensor([5.0, 6.0]), torch.tensor([3.0, 4.0])\n",
    "cx, cy = torch.tensor([1.0, 2.0]), torch.tensor([3.0, 4.0])\n",
    "theta = torch.tensor([0.0, 0.0])\n",
    "\n",
    "ellipse_matrices = ellipse_to_conic_matrix(\n",
    "    semimajor_axis, semiminor_axis, cx, cy, theta\n",
    ")\n",
    "\n",
    "expected_bbox = torch.tensor([[-4, 0.0, 6.0, 6.0], [-4.0, 0.0, 8.0, 8.0]])\n",
    "calculated_bbox = bbox_ellipse(ellipse_matrices)\n",
    "\n",
    "# assert torch.allclose(calculated_bbox, expected_bbox), \"Bounding box calculation #1 failed\"\n",
    "expected_bbox, calculated_bbox"
   ]
  },
  {
   "cell_type": "code",
   "execution_count": null,
   "metadata": {
    "pycharm": {
     "name": "#%%\n"
    }
   },
   "outputs": [],
   "source": [
    "import numpy as np\n",
    "from matplotlib import pyplot as plt\n",
    "from matplotlib.patches import Rectangle, Ellipse\n",
    "\n",
    "\n",
    "def plot_bboxes_ellipses(_bboxes: np.ndarray, _theta: np.ndarray):\n",
    "    \"\"\"\n",
    "    Plot the bounding boxes and ellipses on the image.\n",
    "\n",
    "    Parameters\n",
    "    ----------\n",
    "    _bboxes\n",
    "    _ellipses\n",
    "    Returns\n",
    "    -------\n",
    "\n",
    "    \"\"\"\n",
    "    fig, ax = plt.subplots(1, figsize=(15, 25))\n",
    "    ax.set_ylim(-10, 10)\n",
    "    ax.set_xlim(-10, 10)\n",
    "    ax.set_aspect(\"equal\")\n",
    "\n",
    "    for (x_min, y_min, x_max, y_max), t in zip(_bboxes, _theta):\n",
    "        cx, cy, w, h = (\n",
    "            x_min + (x_max - x_min) / 2,\n",
    "            y_min + (y_max - y_min) / 2,\n",
    "            x_max - x_min,\n",
    "            y_max - y_min,\n",
    "        )\n",
    "        rect = Rectangle((x_min, y_min), w, h, fill=False, color=\"r\")\n",
    "        ax.add_patch(rect)\n",
    "\n",
    "        ellipse = Ellipse((cx, cy), w, h, angle=t, alpha=0.3)\n",
    "\n",
    "        ax.add_patch(ellipse)"
   ]
  },
  {
   "cell_type": "code",
   "execution_count": null,
   "metadata": {
    "pycharm": {
     "name": "#%%\n"
    }
   },
   "outputs": [],
   "source": [
    "plot_bboxes_ellipses(calculated_bbox, theta)"
   ]
  },
  {
   "cell_type": "code",
   "execution_count": null,
   "metadata": {
    "pycharm": {
     "name": "#%%\n"
    }
   },
   "outputs": [],
   "source": [
    "from ellipse_rcnn.utils.viz import DetectionPlotter"
   ]
  },
  {
   "cell_type": "code",
   "execution_count": null,
   "metadata": {
    "pycharm": {
     "name": "#%%\n"
    }
   },
   "outputs": [],
   "source": [
    "from ellipse_rcnn import EllipseRCNN\n",
    "from ellipse_rcnn.core.model import EllipseRCNNLightning\n",
    "import torch"
   ]
  },
  {
   "cell_type": "code",
   "execution_count": null,
   "metadata": {},
   "outputs": [],
   "source": [
    "model = EllipseRCNN()\n",
    "pl_model = EllipseRCNNLightning(model=model)"
   ]
  },
  {
   "cell_type": "code",
   "execution_count": null,
   "metadata": {},
   "outputs": [],
   "source": [
    "with open(\"../checkpoints/ellipse_rcnn_model.pth\", \"rb\") as f:\n",
    "    pl_model.load_state_dict(torch.load(f, weights_only=True))"
   ]
  },
  {
   "cell_type": "code",
   "execution_count": null,
   "metadata": {},
   "outputs": [],
   "source": [
    "model.eval()"
   ]
  },
  {
   "cell_type": "code",
   "execution_count": null,
   "metadata": {},
   "outputs": [],
   "source": [
    "ds = FDDB(\"../data/FDDB\")"
   ]
  },
  {
   "cell_type": "code",
   "execution_count": null,
   "metadata": {},
   "outputs": [],
   "source": [
    "from PIL import Image\n",
    "import numpy as np\n",
    "\n",
    "image, target_dict = ds[5]\n",
    "\n",
    "image_reshaped = np.transpose(\n",
    "    image.numpy(), (1, 2, 0)\n",
    ")  # Moves the channel to the last axis\n",
    "\n",
    "if image_reshaped.dtype != np.uint8:\n",
    "    # Assuming the array is normalized to [0, 1], scale to [0, 255]\n",
    "    image_reshaped = image_reshaped.astype(np.uint8)\n",
    "\n",
    "# Step 3: Convert to Pillow image\n",
    "img = Image.fromarray(image_reshaped, mode=\"RGB\")\n",
    "\n",
    "# Save or display the image\n",
    "pred = model(image.unsqueeze(0))\n",
    "if len(pred[0][\"boxes\"]) > 0:\n",
    "    plotter = DetectionPlotter.from_ellipses(pred[0][\"ellipse_matrices\"].detach())\n",
    "    fig, ax = plt.subplots(1, figsize=(15, 25))\n",
    "    ax.set_aspect(\"equal\")\n",
    "    ax.grid(True)\n",
    "    # ax.set_xlim(-10, 10)\n",
    "    # ax.set_ylim(-10, 10)\n",
    "    ax.imshow(img)\n",
    "    plotter.plot(ax)\n",
    "    plt.show()"
   ]
  },
  {
   "cell_type": "code",
   "execution_count": null,
   "metadata": {},
   "outputs": [],
   "source": []
  },
  {
   "cell_type": "code",
   "execution_count": null,
   "metadata": {},
   "outputs": [],
   "source": [
    "from matplotlib import pyplot as plt\n",
    "\n",
    "# Create a figure and an axis\n",
    "fig, ax = plt.subplots(figsize=(10, 8))\n",
    "ax.imshow(img)\n",
    "ax.axis(\"off\")  # Turn off the axis for better visualization\n",
    "plt.show()  # Display the plot"
   ]
  },
  {
   "cell_type": "code",
   "execution_count": null,
   "metadata": {},
   "outputs": [],
   "source": [
    "plotter = DetectionPlotter()"
   ]
  },
  {
   "cell_type": "code",
   "execution_count": null,
   "metadata": {},
   "outputs": [],
   "source": []
  }
 ],
 "metadata": {
  "kernelspec": {
   "display_name": "Python 3 (ipykernel)",
   "language": "python",
   "name": "python3"
  },
  "language_info": {
   "codemirror_mode": {
    "name": "ipython",
    "version": 2
   },
   "file_extension": ".py",
   "mimetype": "text/x-python",
   "name": "python",
   "nbconvert_exporter": "python",
   "pygments_lexer": "ipython2",
   "version": "2.7.6"
  }
 },
 "nbformat": 4,
 "nbformat_minor": 0
}
